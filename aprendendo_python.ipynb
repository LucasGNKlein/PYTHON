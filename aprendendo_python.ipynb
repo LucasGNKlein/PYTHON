{
  "nbformat": 4,
  "nbformat_minor": 0,
  "metadata": {
    "colab": {
      "provenance": [],
      "include_colab_link": true
    },
    "kernelspec": {
      "name": "python3",
      "display_name": "Python 3"
    },
    "language_info": {
      "name": "python"
    }
  },
  "cells": [
    {
      "cell_type": "markdown",
      "metadata": {
        "id": "view-in-github",
        "colab_type": "text"
      },
      "source": [
        "<a href=\"https://colab.research.google.com/github/LucasGNKlein/PYTHON/blob/main/aprendendo_python.ipynb\" target=\"_parent\"><img src=\"https://colab.research.google.com/assets/colab-badge.svg\" alt=\"Open In Colab\"/></a>"
      ]
    },
    {
      "cell_type": "markdown",
      "source": [
        "Variáveis em python, não precisam ser declaradas, basta começar a utilizar.\n",
        "Elas também não tem um tipo rígido.\n",
        "Existem alguns tipos básicos de dados em python, como nas variáveis abaixo:"
      ],
      "metadata": {
        "id": "qfwRnWlk8lVY"
      }
    },
    {
      "cell_type": "code",
      "source": [
        "x=5 #variável de número inteiro\n",
        "y=2.3 #número em ponto flutuante (float, double)\n",
        "z=True #Booleano (False,True)\n",
        "txt=\"olá Python!\" #texto"
      ],
      "metadata": {
        "id": "-3RuqqZe9EJt"
      },
      "execution_count": null,
      "outputs": []
    },
    {
      "cell_type": "markdown",
      "source": [
        "Para mostrar algum valor, usamos o comando print"
      ],
      "metadata": {
        "id": "_vgCvKZ1986d"
      }
    },
    {
      "cell_type": "code",
      "source": [
        "print(x) #mostra a variavel x\n",
        "# o comando str() transforma qualquer objeto em texto\n",
        "print(\"A variável y é: \"+str(y))\n",
        "print(z)\n",
        "print(txt)"
      ],
      "metadata": {
        "colab": {
          "base_uri": "https://localhost:8080/"
        },
        "id": "u7IyjesB-A9E",
        "outputId": "3f978b2b-9b93-4d19-cfb3-c85a0b11294b"
      },
      "execution_count": null,
      "outputs": [
        {
          "output_type": "stream",
          "name": "stdout",
          "text": [
            "5\n",
            "A variável y é: 2.3\n",
            "True\n",
            "olá Python!\n"
          ]
        }
      ]
    },
    {
      "cell_type": "markdown",
      "source": [
        "O Python possui vários tipos de coleções. O tipo mais comum é o ArrayList. Ele permite guardar qualquer tipo de objeto, pode aumentar ou diminuir dinamicamente, e é acessado com um índice inteiro."
      ],
      "metadata": {
        "id": "a8VLuJpKE-HW"
      }
    },
    {
      "cell_type": "code",
      "source": [
        "lista=[5,2,9,1,0,12]\n",
        "print(lista)\n",
        "print(lista[0])\n",
        "print(lista[3])"
      ],
      "metadata": {
        "colab": {
          "base_uri": "https://localhost:8080/"
        },
        "id": "9Lm2IGSAFTTX",
        "outputId": "aca0dba1-14e9-4bce-925d-bb8c696b200a"
      },
      "execution_count": null,
      "outputs": [
        {
          "output_type": "stream",
          "name": "stdout",
          "text": [
            "[5, 2, 9, 1, 0, 12]\n",
            "5\n",
            "1\n"
          ]
        }
      ]
    },
    {
      "cell_type": "markdown",
      "source": [
        "Podemos criar uma uma lista vasia com [] e ir adicionando elementos com o append()"
      ],
      "metadata": {
        "id": "y7cAlFAvGNue"
      }
    },
    {
      "cell_type": "code",
      "source": [
        "lista=[]\n",
        "lista.append(3)\n",
        "lista.append(2)\n",
        "lista.append(9)\n",
        "lista.append(4)\n",
        "lista.append(7)\n",
        "print(lista)"
      ],
      "metadata": {
        "colab": {
          "base_uri": "https://localhost:8080/"
        },
        "id": "5EPMwKzrGXvt",
        "outputId": "a34cb0fd-7920-4105-b919-78f53a2628e5"
      },
      "execution_count": null,
      "outputs": [
        {
          "output_type": "stream",
          "name": "stdout",
          "text": [
            "[3, 2, 9, 4, 7]\n"
          ]
        }
      ]
    },
    {
      "cell_type": "markdown",
      "source": [
        "Também é possivel acessar os elementos de em ordem reversa usando índices negativos"
      ],
      "metadata": {
        "id": "I8N-BKusHHdB"
      }
    },
    {
      "cell_type": "code",
      "source": [
        "print(lista[-1])\n",
        "print(lista[-2])"
      ],
      "metadata": {
        "colab": {
          "base_uri": "https://localhost:8080/"
        },
        "id": "pFPKnJ9wHOrA",
        "outputId": "a3998b75-28ff-41dc-d5c5-64cb085a8309"
      },
      "execution_count": null,
      "outputs": [
        {
          "output_type": "stream",
          "name": "stdout",
          "text": [
            "7\n",
            "4\n"
          ]
        }
      ]
    },
    {
      "cell_type": "markdown",
      "source": [
        "Usando o :, é possível acessar subconjuntos do ArrayList"
      ],
      "metadata": {
        "id": "7lpexhw4H1WY"
      }
    },
    {
      "cell_type": "code",
      "source": [
        "#Acessar os elementos 0,1 e 2\n",
        "#lista[primeiro elemento:elemento depois do último]\n",
        "print(lista[0:3])\n",
        "#acessar todos os elementos\n",
        "print(lista[:])\n",
        "#acessar os elementos do primeiro até o terceiro\n",
        "print(lista[:3])\n",
        "#acessar do terceiro elemento [índice 2] até o final\n",
        "print(lista[2:])\n",
        "#acessar os elementos do 0 até o 4, de 2 em 2\n",
        "print(lista[0:5:2])\n"
      ],
      "metadata": {
        "colab": {
          "base_uri": "https://localhost:8080/"
        },
        "id": "DRSrxo2DH2fj",
        "outputId": "83cfc2a2-eb83-4a19-cd93-ff829ed80213"
      },
      "execution_count": null,
      "outputs": [
        {
          "output_type": "stream",
          "name": "stdout",
          "text": [
            "[3, 2, 9]\n",
            "[3, 2, 9, 4, 7]\n",
            "[3, 2, 9]\n",
            "[9, 4, 7]\n",
            "[3, 9, 7]\n"
          ]
        }
      ]
    },
    {
      "cell_type": "markdown",
      "source": [
        "Para saber o tamanho de uma lista usamos o comando len()"
      ],
      "metadata": {
        "id": "EswofOzRKZ4q"
      }
    },
    {
      "cell_type": "code",
      "source": [
        "print(len(lista))\n",
        "print(lista[1:len(lista)-1])"
      ],
      "metadata": {
        "colab": {
          "base_uri": "https://localhost:8080/"
        },
        "id": "w0KkkK_XKe5f",
        "outputId": "d2dfc521-d938-4016-adb4-b36d00b0a82b"
      },
      "execution_count": null,
      "outputs": [
        {
          "output_type": "stream",
          "name": "stdout",
          "text": [
            "5\n",
            "[2, 9, 4]\n"
          ]
        }
      ]
    },
    {
      "cell_type": "markdown",
      "source": [
        "É possível colocar listas dentro de listas (parecido com matrizes)"
      ],
      "metadata": {
        "id": "sefYWrsJPypN"
      }
    },
    {
      "cell_type": "code",
      "source": [
        "m=[[2,4],[1,9,7]]\n",
        "print(m)\n",
        "print(m[0])\n",
        "print(m[0][1])"
      ],
      "metadata": {
        "colab": {
          "base_uri": "https://localhost:8080/"
        },
        "id": "TTb3ev3TP5no",
        "outputId": "2323076f-cd29-41be-c26d-d8677383e17f"
      },
      "execution_count": null,
      "outputs": [
        {
          "output_type": "stream",
          "name": "stdout",
          "text": [
            "[[2, 4], [1, 9, 7]]\n",
            "[2, 4]\n",
            "4\n"
          ]
        }
      ]
    },
    {
      "cell_type": "markdown",
      "source": [
        "Em Python, os blocos do programa são definidos pela identação. Ou seja, os comandos que estiverem recuados estão dentro de um bloco. Cada nível a mais de recuo significa um nível a mais de aninhamento da estrutura do código. Nunca misture tabs e espaços!\n",
        "Abaixo temos o exemplo que um comando if."
      ],
      "metadata": {
        "id": "GTMuKdaSMP5t"
      }
    },
    {
      "cell_type": "code",
      "source": [
        "x=1\n",
        "if x>2:\n",
        "  print(\"primeiro comando\")\n",
        "  print(\"segundo comando\")\n",
        "print(\"terceiro comando\")"
      ],
      "metadata": {
        "colab": {
          "base_uri": "https://localhost:8080/"
        },
        "id": "GQtxv7cKMngK",
        "outputId": "cd7dc07e-aa57-4f5d-fe78-201b2910c5ed"
      },
      "execution_count": null,
      "outputs": [
        {
          "output_type": "stream",
          "name": "stdout",
          "text": [
            "terceiro comando\n"
          ]
        }
      ]
    },
    {
      "cell_type": "markdown",
      "source": [
        "A mesma lógica vale para estruturas aninhadas. Como um if dentro de outro if"
      ],
      "metadata": {
        "id": "HrdU0GjRNvpZ"
      }
    },
    {
      "cell_type": "code",
      "source": [
        "x=3\n",
        "if x>2:\n",
        "  print(\"comando 1\")\n",
        "  print(\"comando 2\")\n",
        "  if x>5:\n",
        "    print(\"comando 3\")\n",
        "    print(\"comando 4\")\n",
        "  print(\"comando 5\")\n",
        "print(\"comando 6\")\n"
      ],
      "metadata": {
        "colab": {
          "base_uri": "https://localhost:8080/"
        },
        "id": "_qYHAr1KN4pB",
        "outputId": "42e941c7-1888-4ec0-bdca-3d87eab687de"
      },
      "execution_count": null,
      "outputs": [
        {
          "output_type": "stream",
          "name": "stdout",
          "text": [
            "comando 1\n",
            "comando 2\n",
            "comando 5\n",
            "comando 6\n"
          ]
        }
      ]
    },
    {
      "cell_type": "markdown",
      "source": [
        "O comando if é semelhante à maioria das linguagens de programação. E tem os operadores:"
      ],
      "metadata": {
        "id": "Xn3f5cArtwJc"
      }
    },
    {
      "cell_type": "code",
      "source": [
        "a=1\n",
        "b=5\n",
        "c=3\n",
        "d=2\n",
        "\n",
        "#verifica igualdade:\n",
        "if b==5:\n",
        "  print(\"b é igual a 5\")\n",
        "\n",
        "#verifica se é diferente:\n",
        "if a!=3:\n",
        "  print(\"a é diferente de 3\")\n",
        "\n",
        "#maior >, menor <, maior igual >=, menor igual<=\n",
        "if b <=10:\n",
        "  print(\"b é menor ou igual a 10\")\n",
        "\n",
        "#negação (not)\n",
        "if not(c==2):\n",
        "  print(\"se não(c igual a 2)\")\n",
        "\n",
        "#operações lógicas e=and e ou=or\n",
        "if ((a!=b) and (c!=d)) or ((c+d)==5):\n",
        "  print(\"(a é diferente de b E c é \\\n",
        "  diferente de d) ou c+d é igual a 5\")\n",
        "\n"
      ],
      "metadata": {
        "colab": {
          "base_uri": "https://localhost:8080/"
        },
        "id": "1BuireL1t-DF",
        "outputId": "192f22dd-bd99-4f88-9779-15df02b73f24"
      },
      "execution_count": null,
      "outputs": [
        {
          "output_type": "stream",
          "name": "stdout",
          "text": [
            "b é igual a 5\n",
            "a é diferente de 3\n",
            "b é menor ou igual a 10\n",
            "se não(c igual a 2)\n",
            "(a é diferente de b E c é   diferente de d) ou c+d é igual a 5\n"
          ]
        }
      ]
    },
    {
      "cell_type": "markdown",
      "source": [
        "O laço de repetição for itera uma variável sobre uma sequência. O comando range cria uma sequência. O range tem a forma range(inicio, final+1,passo) Por exemplo:"
      ],
      "metadata": {
        "id": "TcXMsZh-wpIy"
      }
    },
    {
      "cell_type": "code",
      "source": [
        "#itera i na seqência de 0 até 4\n",
        "for i in range(5):\n",
        "  print(i)\n",
        "\n",
        "print(\"-----\")\n",
        "for i in range(2,5):\n",
        "  print(i)\n",
        "\n",
        "print(\"-----\")\n",
        "for i in range(10,2,-2):\n",
        "  print(i)"
      ],
      "metadata": {
        "colab": {
          "base_uri": "https://localhost:8080/"
        },
        "id": "cEDbRN-Tw3SZ",
        "outputId": "10832c9d-468c-46bc-b05e-0864cd4edfd8"
      },
      "execution_count": null,
      "outputs": [
        {
          "output_type": "stream",
          "name": "stdout",
          "text": [
            "0\n",
            "1\n",
            "2\n",
            "3\n",
            "4\n",
            "-----\n",
            "2\n",
            "3\n",
            "4\n",
            "-----\n",
            "10\n",
            "8\n",
            "6\n",
            "4\n"
          ]
        }
      ]
    },
    {
      "cell_type": "markdown",
      "source": [
        "o for() pode iterar uma variável diretamente em uma lista. Por exemplo:"
      ],
      "metadata": {
        "id": "DUUGTnAs0l0t"
      }
    },
    {
      "cell_type": "code",
      "source": [
        "lista=[\"mercúrio\",\"vênus\",\"terra\",\"marte\"]\n",
        "# acessando os elementos via índice:\n",
        "for i in range(4):\n",
        "  print(lista[i])\n",
        "# posso verificar o tamanho da lista para fazer isso\n",
        "print(\"----\")\n",
        "for i in range(len(lista)):\n",
        "  print(lista[i])\n",
        "# também é possível iterar diretamente na lista\n",
        "print(\"---\")\n",
        "for planeta in lista:\n",
        "  print(planeta)\n",
        "\n"
      ],
      "metadata": {
        "colab": {
          "base_uri": "https://localhost:8080/"
        },
        "id": "3Zq7oGGU0vWt",
        "outputId": "d1206392-b03b-4c5b-9bf7-374bfa510294"
      },
      "execution_count": null,
      "outputs": [
        {
          "output_type": "stream",
          "name": "stdout",
          "text": [
            "mercúrio\n",
            "vênus\n",
            "terra\n",
            "marte\n",
            "----\n",
            "mercúrio\n",
            "vênus\n",
            "terra\n",
            "marte\n",
            "---\n",
            "mercúrio\n",
            "vênus\n",
            "terra\n",
            "marte\n"
          ]
        }
      ]
    },
    {
      "cell_type": "markdown",
      "source": [
        "Ao acessar com índice, é possível alterar a lista, mas não é possível alterar ao iterar diretamente na lista:"
      ],
      "metadata": {
        "id": "VqaqqAcA2soz"
      }
    },
    {
      "cell_type": "code",
      "source": [
        "lista=[\"mercúrio\",\"vênus\",\"terra\",\"marte\"]\n",
        "print(\"assim funciona:\")\n",
        "for i in range(len(lista)):\n",
        "  lista[i]=lista[i]+\"!\"\n",
        "print(lista)\n",
        "print(\"assim não funciona:\")\n",
        "for planeta in lista:\n",
        "  planeta=planeta+\"*\"\n",
        "  print(planeta)\n",
        "print(lista)"
      ],
      "metadata": {
        "colab": {
          "base_uri": "https://localhost:8080/"
        },
        "id": "vgpRtdMz20xx",
        "outputId": "7b27ab90-7ff7-4f9e-b35c-5e78b2bf835d"
      },
      "execution_count": null,
      "outputs": [
        {
          "output_type": "stream",
          "name": "stdout",
          "text": [
            "assim funciona:\n",
            "['mercúrio!', 'vênus!', 'terra!', 'marte!']\n",
            "assim não funciona:\n",
            "mercúrio!*\n",
            "vênus!*\n",
            "terra!*\n",
            "marte!*\n",
            "['mercúrio!', 'vênus!', 'terra!', 'marte!']\n"
          ]
        }
      ]
    },
    {
      "cell_type": "markdown",
      "source": [
        "Concatenar listas é muito fácil:"
      ],
      "metadata": {
        "id": "oiObaJvF4B71"
      }
    },
    {
      "cell_type": "code",
      "source": [
        "lista1=[\"pão\",\"presunto\"]\n",
        "lista2=[\"queijo\",\"pão\"]\n",
        "lista3=lista1+lista2\n",
        "print(lista3)"
      ],
      "metadata": {
        "colab": {
          "base_uri": "https://localhost:8080/"
        },
        "id": "pJVSzLXa4E7k",
        "outputId": "1570631a-9201-47bb-d95d-f3959529dbfc"
      },
      "execution_count": null,
      "outputs": [
        {
          "output_type": "stream",
          "name": "stdout",
          "text": [
            "['pão', 'presunto', 'queijo', 'pão']\n"
          ]
        }
      ]
    },
    {
      "cell_type": "markdown",
      "source": [
        "O laço de repetição while (enquanto) funciona como nas outras linguagem"
      ],
      "metadata": {
        "id": "xTqkR4F_5rF4"
      }
    },
    {
      "cell_type": "code",
      "source": [
        "lista=[\"a\",\"b\",\"c\",\"d\"]\n",
        "i=0\n",
        "while(lista[i]!=\"c\"):\n",
        "  print(lista[i])\n",
        "  i=i+1"
      ],
      "metadata": {
        "colab": {
          "base_uri": "https://localhost:8080/"
        },
        "id": "AGH7WqBL5xKD",
        "outputId": "e7b66684-edd3-4cbd-a4bc-9c2b85125e2a"
      },
      "execution_count": null,
      "outputs": [
        {
          "output_type": "stream",
          "name": "stdout",
          "text": [
            "a\n",
            "b\n"
          ]
        }
      ]
    },
    {
      "cell_type": "markdown",
      "source": [
        "As funções em Python são definida com \"def\", pode receber parâmetros e retornar ou não valores."
      ],
      "metadata": {
        "id": "qU14APGq6S24"
      }
    },
    {
      "cell_type": "code",
      "source": [
        "def calcula_media(v1,v2,v3):\n",
        "  soma=v1+v2+v3\n",
        "  media=soma/3\n",
        "  return media\n",
        "\n",
        "print(\"calcula a média:\")\n",
        "media=calcula_media(7,10,4)\n",
        "print(media)\n"
      ],
      "metadata": {
        "colab": {
          "base_uri": "https://localhost:8080/"
        },
        "id": "4kvG3uc26gd-",
        "outputId": "63fae51e-8da6-4ab2-8d4d-0c7f5995b714"
      },
      "execution_count": null,
      "outputs": [
        {
          "output_type": "stream",
          "name": "stdout",
          "text": [
            "calcula a média:\n",
            "7.0\n"
          ]
        }
      ]
    },
    {
      "cell_type": "markdown",
      "source": [
        "Retornando mais de um valor da função:"
      ],
      "metadata": {
        "id": "lq2OzCgG8Chq"
      }
    },
    {
      "cell_type": "code",
      "source": [
        "def media_e_maior(v1,v2,v3):\n",
        "  media=(v1+v2+v3)/3.0\n",
        "  maior=max([v1,v2,v3])\n",
        "  return media,maior\n",
        "\n",
        "media,maior=media_e_maior(10,50,20)\n",
        "print(media)\n",
        "print(maior)"
      ],
      "metadata": {
        "colab": {
          "base_uri": "https://localhost:8080/"
        },
        "id": "G6bT6CM58H84",
        "outputId": "8cb49528-e1aa-495d-a624-d4d2a5d6de21"
      },
      "execution_count": null,
      "outputs": [
        {
          "output_type": "stream",
          "name": "stdout",
          "text": [
            "26.666666666666668\n",
            "50\n"
          ]
        }
      ]
    },
    {
      "cell_type": "markdown",
      "source": [
        "Um dicionário, ou mapa, permite criar uma coleção em que eu acesso os elementos por meio de uma chave, que é qualquer objeto. Ou seja, é criada uma associação entre uma chave e uma valor com o par (key,value)."
      ],
      "metadata": {
        "id": "AM4bi8-F-u2R"
      }
    },
    {
      "cell_type": "code",
      "source": [
        "dist_sol={\"mercúrio\":5.8,\"vênus\":10.8,\"terra\":15}\n",
        "print(dist_sol[\"terra\"])\n",
        "dist_sol[\"marte\"]=23.0\n",
        "print(dist_sol)"
      ],
      "metadata": {
        "colab": {
          "base_uri": "https://localhost:8080/"
        },
        "id": "S0pHunu6_AEw",
        "outputId": "d21229b1-e8b1-4cef-a66f-702c102fe7d7"
      },
      "execution_count": null,
      "outputs": [
        {
          "output_type": "stream",
          "name": "stdout",
          "text": [
            "15\n",
            "{'mercúrio': 5.8, 'vênus': 10.8, 'terra': 15, 'marte': 23.0}\n"
          ]
        }
      ]
    },
    {
      "cell_type": "markdown",
      "source": [
        "O dicionário tem uma função que retorna a lista de chaves, é a função keys()"
      ],
      "metadata": {
        "id": "0gQGVuQDHOVt"
      }
    },
    {
      "cell_type": "code",
      "source": [
        "print(dist_sol.keys())"
      ],
      "metadata": {
        "colab": {
          "base_uri": "https://localhost:8080/"
        },
        "id": "988R5rRVHV4i",
        "outputId": "fc48f8b0-0e6b-4c3a-c339-2e56eb365e3b"
      },
      "execution_count": null,
      "outputs": [
        {
          "output_type": "stream",
          "name": "stdout",
          "text": [
            "dict_keys(['mercúrio', 'vênus', 'terra', 'marte'])\n"
          ]
        }
      ]
    },
    {
      "cell_type": "markdown",
      "source": [
        "Para verificar se uma chave existe ou não, podemos usar o comando \"in\" que verifica se um item existe em uma lista, ou o \"not in\" para verificar se não está na lista"
      ],
      "metadata": {
        "id": "_MeMfhwmHokZ"
      }
    },
    {
      "cell_type": "code",
      "source": [
        "if \"saturno\" not in dist_sol.keys():\n",
        "  print(\"saturno não está no dicionário\")\n",
        "if \"terra\" in dist_sol.keys():\n",
        "  print(\"terra está no dicionário\")"
      ],
      "metadata": {
        "colab": {
          "base_uri": "https://localhost:8080/"
        },
        "id": "YG4EXghXHyhY",
        "outputId": "bce53d3b-6c1a-488b-b8c6-34a68ee157bf"
      },
      "execution_count": null,
      "outputs": [
        {
          "output_type": "stream",
          "name": "stdout",
          "text": [
            "saturno não está na lista\n",
            "terra está na lista\n"
          ]
        }
      ]
    },
    {
      "cell_type": "markdown",
      "source": [],
      "metadata": {
        "id": "hmkp3Xib4uFW"
      }
    },
    {
      "cell_type": "markdown",
      "source": [
        "Quando o dicionário é tratado como um iterável, ele itera apenas nas chaves. Ou seja, não é preciso usar o keys() nesse caso."
      ],
      "metadata": {
        "id": "ETYL4FerIzKm"
      }
    },
    {
      "cell_type": "code",
      "source": [
        "if \"saturno\" not in dist_sol:\n",
        "  print(\"saturno não está no dicionário\")\n",
        "if \"terra\" in dist_sol:\n",
        "  print(\"terra está no dicionário\")"
      ],
      "metadata": {
        "colab": {
          "base_uri": "https://localhost:8080/"
        },
        "id": "s9yOfrNJI9Sy",
        "outputId": "d2b0a40f-8879-4dea-b1ba-67a2cbe059fd"
      },
      "execution_count": null,
      "outputs": [
        {
          "output_type": "stream",
          "name": "stdout",
          "text": [
            "saturno não está no dicionário\n",
            "terra está no dicionário\n"
          ]
        }
      ]
    },
    {
      "cell_type": "markdown",
      "source": [
        "O comando get() retorna o valor de uma chave, mas verifica se a chave existe, se não existir, reorna None."
      ],
      "metadata": {
        "id": "VTmpE9OoJz11"
      }
    },
    {
      "cell_type": "code",
      "source": [
        "print(dist_sol.get(\"plutão\"))"
      ],
      "metadata": {
        "colab": {
          "base_uri": "https://localhost:8080/"
        },
        "id": "llrlN7I-J7oN",
        "outputId": "154c55a0-8537-47c3-b66f-f4a77a1f37e2"
      },
      "execution_count": null,
      "outputs": [
        {
          "output_type": "stream",
          "name": "stdout",
          "text": [
            "None\n"
          ]
        }
      ]
    },
    {
      "cell_type": "markdown",
      "source": [
        "É possível passar um valor padrão para o get, que será retornado se a chave não existir, ao invés de None."
      ],
      "metadata": {
        "id": "g2XnUXePKWLx"
      }
    },
    {
      "cell_type": "code",
      "source": [
        "print(dist_sol.get(\"plutão\",0.0))"
      ],
      "metadata": {
        "colab": {
          "base_uri": "https://localhost:8080/"
        },
        "id": "GcqwsAuoKhHd",
        "outputId": "e7aca544-278d-42f7-c79a-7303d83eabc6"
      },
      "execution_count": null,
      "outputs": [
        {
          "output_type": "stream",
          "name": "stdout",
          "text": [
            "0.0\n"
          ]
        }
      ]
    },
    {
      "cell_type": "markdown",
      "source": [
        "Para apagar uma chave,valor do dicionário, podemos usar o comando \"del\"."
      ],
      "metadata": {
        "id": "ZjHeF31tKy-P"
      }
    },
    {
      "cell_type": "code",
      "source": [
        "print(dist_sol)\n",
        "if \"marte\" in dist_sol:\n",
        "  del dist_sol[\"marte\"]\n",
        "print(dist_sol)"
      ],
      "metadata": {
        "colab": {
          "base_uri": "https://localhost:8080/"
        },
        "id": "b1KIZyjFK8UW",
        "outputId": "04e4fac8-6541-429d-8639-f344dc798de1"
      },
      "execution_count": null,
      "outputs": [
        {
          "output_type": "stream",
          "name": "stdout",
          "text": [
            "{'mercúrio': 5.8, 'vênus': 10.8, 'terra': 15}\n",
            "{'mercúrio': 5.8, 'vênus': 10.8, 'terra': 15}\n"
          ]
        }
      ]
    },
    {
      "cell_type": "markdown",
      "source": [
        "Para ver a lista de valores usamos o comando values()"
      ],
      "metadata": {
        "id": "woWT5P1JLpEO"
      }
    },
    {
      "cell_type": "code",
      "source": [
        "print(dist_sol.values())"
      ],
      "metadata": {
        "colab": {
          "base_uri": "https://localhost:8080/"
        },
        "id": "w1W1TjumLsAs",
        "outputId": "5bd574c7-c9f5-4c79-ce33-9acd26202e91"
      },
      "execution_count": null,
      "outputs": [
        {
          "output_type": "stream",
          "name": "stdout",
          "text": [
            "dict_values([5.8, 10.8, 15])\n"
          ]
        }
      ]
    },
    {
      "cell_type": "code",
      "source": [
        "for k in dist_sol.keys():\n",
        "  print(k,dist_sol[k])"
      ],
      "metadata": {
        "colab": {
          "base_uri": "https://localhost:8080/"
        },
        "id": "c46BwPXKLxoH",
        "outputId": "38a1f8ed-2aae-462b-84b6-6f0920c8e261"
      },
      "execution_count": null,
      "outputs": [
        {
          "output_type": "stream",
          "name": "stdout",
          "text": [
            "mercúrio 5.8\n",
            "vênus 10.8\n",
            "terra 15\n"
          ]
        }
      ]
    },
    {
      "cell_type": "markdown",
      "source": [
        "Como o padrão de um dicionário é iterar nas chaves, podemos fazer:"
      ],
      "metadata": {
        "id": "dQztlN3wMM2B"
      }
    },
    {
      "cell_type": "code",
      "source": [
        "for k in dist_sol:\n",
        "  print(k,dist_sol[k])"
      ],
      "metadata": {
        "colab": {
          "base_uri": "https://localhost:8080/"
        },
        "id": "YcuADQSZMSMZ",
        "outputId": "87627276-919a-4ba4-9aa2-aa3619410cf9"
      },
      "execution_count": null,
      "outputs": [
        {
          "output_type": "stream",
          "name": "stdout",
          "text": [
            "mercúrio 5.8\n",
            "vênus 10.8\n",
            "terra 15\n"
          ]
        }
      ]
    },
    {
      "cell_type": "markdown",
      "source": [
        "Tuplas são listas imutáveis"
      ],
      "metadata": {
        "id": "5az5DIXkMpCr"
      }
    },
    {
      "cell_type": "code",
      "source": [
        "t=(\"x\",\"y\",\"z\")\n",
        "print(t)\n",
        "print(t[1])"
      ],
      "metadata": {
        "colab": {
          "base_uri": "https://localhost:8080/"
        },
        "id": "RcTJWB4NMsqD",
        "outputId": "c7c63b73-9493-4ad3-f079-b02f09c099fa"
      },
      "execution_count": null,
      "outputs": [
        {
          "output_type": "stream",
          "name": "stdout",
          "text": [
            "('x', 'y', 'z')\n",
            "y\n"
          ]
        }
      ]
    },
    {
      "cell_type": "markdown",
      "source": [
        "O método items() retorna tuplas de chave e valor do dicionário"
      ],
      "metadata": {
        "id": "WOz-NWHjNA7w"
      }
    },
    {
      "cell_type": "code",
      "source": [
        "print(dist_sol.items())"
      ],
      "metadata": {
        "colab": {
          "base_uri": "https://localhost:8080/"
        },
        "id": "cOPV7OrcNH3I",
        "outputId": "d45235f2-72fd-4e26-9fb5-cbe91efae101"
      },
      "execution_count": null,
      "outputs": [
        {
          "output_type": "stream",
          "name": "stdout",
          "text": [
            "dict_items([('mercúrio', 5.8), ('vênus', 10.8), ('terra', 15)])\n"
          ]
        }
      ]
    },
    {
      "cell_type": "markdown",
      "source": [
        "Com isso, podemos iterar ao mesmo tempo em chave e valor"
      ],
      "metadata": {
        "id": "pq2xnCxQNZfn"
      }
    },
    {
      "cell_type": "code",
      "source": [
        "for k,v in dist_sol.items():\n",
        "  print(k,v)"
      ],
      "metadata": {
        "colab": {
          "base_uri": "https://localhost:8080/"
        },
        "id": "jkP094HJNgLq",
        "outputId": "477da413-d39f-41a2-c7bc-a05434364d04"
      },
      "execution_count": null,
      "outputs": [
        {
          "output_type": "stream",
          "name": "stdout",
          "text": [
            "mercúrio 5.8\n",
            "vênus 10.8\n",
            "terra 15\n"
          ]
        }
      ]
    },
    {
      "cell_type": "markdown",
      "source": [
        "Exemplo: o código abaixo inverte chaves e valores"
      ],
      "metadata": {
        "id": "-J4K3vryOE9C"
      }
    },
    {
      "cell_type": "code",
      "source": [
        "dist_sol_inv={}\n",
        "for k,v in dist_sol.items():\n",
        "  dist_sol_inv[v]=k\n",
        "print(dist_sol_inv)"
      ],
      "metadata": {
        "colab": {
          "base_uri": "https://localhost:8080/"
        },
        "id": "ae5ZnA-yOK6a",
        "outputId": "210c24ef-c534-46c6-c890-5e2d9401fba0"
      },
      "execution_count": null,
      "outputs": [
        {
          "output_type": "stream",
          "name": "stdout",
          "text": [
            "{5.8: 'mercúrio', 10.8: 'vênus', 15: 'terra', 'mercúrio': 5.8}\n"
          ]
        }
      ]
    },
    {
      "cell_type": "markdown",
      "source": [
        "Se tentarmos modificar um dicionário durante a iteração, não vai funcionar. O código abaixo gerará erro."
      ],
      "metadata": {
        "id": "5_szWQ6rO9iX"
      }
    },
    {
      "cell_type": "code",
      "source": [
        "for k in dist_sol:\n",
        "  if dist_sol[k]>12.0:\n",
        "    del dist_sol[k]"
      ],
      "metadata": {
        "colab": {
          "base_uri": "https://localhost:8080/",
          "height": 215
        },
        "id": "z_kstZkhPJ59",
        "outputId": "db7063e5-420b-4317-c2dc-ec0626dc0d5f"
      },
      "execution_count": null,
      "outputs": [
        {
          "output_type": "error",
          "ename": "RuntimeError",
          "evalue": "ignored",
          "traceback": [
            "\u001b[0;31m---------------------------------------------------------------------------\u001b[0m",
            "\u001b[0;31mRuntimeError\u001b[0m                              Traceback (most recent call last)",
            "\u001b[0;32m<ipython-input-81-5ee48235bd94>\u001b[0m in \u001b[0;36m<cell line: 1>\u001b[0;34m()\u001b[0m\n\u001b[0;32m----> 1\u001b[0;31m \u001b[0;32mfor\u001b[0m \u001b[0mk\u001b[0m \u001b[0;32min\u001b[0m \u001b[0mdist_sol\u001b[0m\u001b[0;34m.\u001b[0m\u001b[0mkeys\u001b[0m\u001b[0;34m(\u001b[0m\u001b[0;34m)\u001b[0m\u001b[0;34m:\u001b[0m\u001b[0;34m\u001b[0m\u001b[0;34m\u001b[0m\u001b[0m\n\u001b[0m\u001b[1;32m      2\u001b[0m   \u001b[0;32mif\u001b[0m \u001b[0mdist_sol\u001b[0m\u001b[0;34m[\u001b[0m\u001b[0mk\u001b[0m\u001b[0;34m]\u001b[0m\u001b[0;34m>\u001b[0m\u001b[0;36m12.0\u001b[0m\u001b[0;34m:\u001b[0m\u001b[0;34m\u001b[0m\u001b[0;34m\u001b[0m\u001b[0m\n\u001b[1;32m      3\u001b[0m     \u001b[0;32mdel\u001b[0m \u001b[0mdist_sol\u001b[0m\u001b[0;34m[\u001b[0m\u001b[0mk\u001b[0m\u001b[0;34m]\u001b[0m\u001b[0;34m\u001b[0m\u001b[0;34m\u001b[0m\u001b[0m\n",
            "\u001b[0;31mRuntimeError\u001b[0m: dictionary changed size during iteration"
          ]
        }
      ]
    },
    {
      "cell_type": "markdown",
      "source": [
        "Para resolver esse problema, podemos criar uma cópia das chaves e iterar nessa cópia. Para isso temos que usar o comando list() para realmente criar uma cópia e não apenas acessar a view."
      ],
      "metadata": {
        "id": "u5UR9StfPm0c"
      }
    },
    {
      "cell_type": "code",
      "source": [
        "dist_sol[\"terra\"]=15.0\n",
        "print(dist_sol)\n",
        "for k in list(dist_sol.keys()):\n",
        "  if dist_sol[k]>12.0:\n",
        "    del dist_sol[k]\n",
        "print(dist_sol)\n"
      ],
      "metadata": {
        "colab": {
          "base_uri": "https://localhost:8080/"
        },
        "id": "bJtsdUgQPtCT",
        "outputId": "71a94ecc-66af-4247-e6a2-432d3718ed97"
      },
      "execution_count": null,
      "outputs": [
        {
          "output_type": "stream",
          "name": "stdout",
          "text": [
            "{'mercúrio': 5.8, 'vênus': 10.8, 'terra': 15.0}\n",
            "{'mercúrio': 5.8, 'vênus': 10.8}\n"
          ]
        }
      ]
    }
  ]
}